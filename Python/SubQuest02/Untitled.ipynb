{
  "cells": [
    {
      "cell_type": "code",
      "source": [
        "from google.colab import drive\n",
        "drive.mount('/content/drive')"
      ],
      "metadata": {
        "id": "7gm8eJa86w6a",
        "outputId": "6ef9701a-7e97-4a09-9516-ae07c957fff9",
        "colab": {
          "base_uri": "https://localhost:8080/"
        }
      },
      "id": "7gm8eJa86w6a",
      "execution_count": 5,
      "outputs": [
        {
          "output_type": "stream",
          "name": "stdout",
          "text": [
            "Drive already mounted at /content/drive; to attempt to forcibly remount, call drive.mount(\"/content/drive\", force_remount=True).\n"
          ]
        }
      ]
    },
    {
      "cell_type": "code",
      "source": [
        "!git clone https://github.com/FennexFox/AIFFEL_quest_cr.git"
      ],
      "metadata": {
        "id": "bSsDGUgEwK4F",
        "outputId": "5cd30706-bbc3-4a0f-fbfb-d4e7a2649493",
        "colab": {
          "base_uri": "https://localhost:8080/"
        }
      },
      "id": "bSsDGUgEwK4F",
      "execution_count": 2,
      "outputs": [
        {
          "output_type": "stream",
          "name": "stdout",
          "text": [
            "Cloning into 'AIFFEL_quest_cr'...\n",
            "remote: Enumerating objects: 61, done.\u001b[K\n",
            "remote: Counting objects: 100% (61/61), done.\u001b[K\n",
            "remote: Compressing objects: 100% (46/46), done.\u001b[K\n",
            "remote: Total 61 (delta 20), reused 29 (delta 8), pack-reused 0 (from 0)\u001b[K\n",
            "Receiving objects: 100% (61/61), 34.25 KiB | 6.85 MiB/s, done.\n",
            "Resolving deltas: 100% (20/20), done.\n"
          ]
        }
      ]
    },
    {
      "cell_type": "code",
      "source": [
        "# importing string module to use .strip() function\n",
        "import string\n",
        "\n",
        "file = open('/content/AIFFEL_quest_cr/Python/SubQuest02/Avengers.txt', 'r').read() # converting the file into string\n",
        "words = file.split() # initializing a list of words in file\n",
        "wordDict = {} # iniitalizing a dictionary for later usage"
      ],
      "metadata": {
        "id": "HxgwkHKf7W92"
      },
      "id": "HxgwkHKf7W92",
      "execution_count": 23,
      "outputs": []
    },
    {
      "cell_type": "code",
      "source": [
        "# Generating wordDict using word in words list\n",
        "# formating word to make wordKey as keys of wordDict\n",
        "for word in words:\n",
        "  wordKey = word.lower().strip(string.punctuation) #formating words\n",
        "\n",
        "  # counting the frequency of word in words list\n",
        "  if wordKey in wordDict:\n",
        "    wordDict[wordKey] += 1\n",
        "  else:\n",
        "    wordDict[wordKey] = 1"
      ],
      "metadata": {
        "id": "ehwQbUjj24UU"
      },
      "id": "ehwQbUjj24UU",
      "execution_count": 24,
      "outputs": []
    },
    {
      "cell_type": "code",
      "source": [
        "#sorting the dictionary by value using lambda\n",
        "wordDescending = sorted(wordDict.items(), key=lambda x: x[1], reverse = True)\n",
        "wordDescendingDict = {}\n",
        "\n",
        "order = 0\n",
        "for pair in wordDescending:\n",
        "  wordDescendingDict[pair[0]] = order\n",
        "  order += 1"
      ],
      "metadata": {
        "id": "v4B8QNsF4R9I"
      },
      "id": "v4B8QNsF4R9I",
      "execution_count": 25,
      "outputs": []
    },
    {
      "cell_type": "code",
      "source": [
        "#a function to get a word and return the order of frequency\n",
        "def wordFreqOrder(str):\n",
        "  wordKey = str.lower().strip(string.punctuation)\n",
        "  returnString = \"\"\n",
        "\n",
        "  if wordKey in wordDescendingDict:\n",
        "    returnString = wordDescendingDict[wordKey]\n",
        "  else:\n",
        "    returnString = \"Not exists\"\n",
        "\n",
        "  return returnString"
      ],
      "metadata": {
        "id": "V5f7y1mB4UWD"
      },
      "id": "V5f7y1mB4UWD",
      "execution_count": 26,
      "outputs": []
    },
    {
      "cell_type": "code",
      "source": [
        "#running the function\n",
        "print(\"Type in a word to check its frequency order:\")\n",
        "print(wordFreqOrder(input()))"
      ],
      "metadata": {
        "id": "qLacP_Le4wsu",
        "outputId": "f0625ed3-e0a1-48b7-cc71-674e7d9dfb59",
        "colab": {
          "base_uri": "https://localhost:8080/"
        }
      },
      "id": "qLacP_Le4wsu",
      "execution_count": 27,
      "outputs": [
        {
          "output_type": "stream",
          "name": "stdout",
          "text": [
            "Type in a word to check its frequency order:\n",
            "thanks\n",
            "360\n"
          ]
        }
      ]
    }
  ],
  "metadata": {
    "kernelspec": {
      "display_name": "Python 3 (ipykernel)",
      "language": "python",
      "name": "python3"
    },
    "language_info": {
      "codemirror_mode": {
        "name": "ipython",
        "version": 3
      },
      "file_extension": ".py",
      "mimetype": "text/x-python",
      "name": "python",
      "nbconvert_exporter": "python",
      "pygments_lexer": "ipython3",
      "version": "3.9.7"
    },
    "colab": {
      "provenance": []
    }
  },
  "nbformat": 4,
  "nbformat_minor": 5
}