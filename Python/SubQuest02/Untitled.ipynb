{
  "cells": [
    {
      "cell_type": "code",
      "source": [
        "from google.colab import drive\n",
        "drive.mount('/content/drive')"
      ],
      "metadata": {
        "id": "7gm8eJa86w6a",
        "outputId": "f08c13eb-b3be-4bf9-db97-97812c10c395",
        "colab": {
          "base_uri": "https://localhost:8080/"
        }
      },
      "id": "7gm8eJa86w6a",
      "execution_count": 3,
      "outputs": [
        {
          "output_type": "stream",
          "name": "stdout",
          "text": [
            "Mounted at /content/drive\n"
          ]
        }
      ]
    },
    {
      "cell_type": "code",
      "source": [
        "!git clone https://github.com/FennexFox/AIFFEL_quest_cr.git"
      ],
      "metadata": {
        "id": "bSsDGUgEwK4F",
        "outputId": "6f523fbd-1b89-4f99-d6b4-595add2f631e",
        "colab": {
          "base_uri": "https://localhost:8080/"
        }
      },
      "id": "bSsDGUgEwK4F",
      "execution_count": 4,
      "outputs": [
        {
          "output_type": "stream",
          "name": "stdout",
          "text": [
            "Cloning into 'AIFFEL_quest_cr'...\n",
            "remote: Enumerating objects: 82, done.\u001b[K\n",
            "remote: Counting objects: 100% (82/82), done.\u001b[K\n",
            "remote: Compressing objects: 100% (65/65), done.\u001b[K\n",
            "remote: Total 82 (delta 30), reused 42 (delta 10), pack-reused 0 (from 0)\u001b[K\n",
            "Receiving objects: 100% (82/82), 91.25 KiB | 1.00 MiB/s, done.\n",
            "Resolving deltas: 100% (30/30), done.\n"
          ]
        }
      ]
    },
    {
      "cell_type": "code",
      "source": [
        "# importing string module to use .strip() function\n",
        "import string\n",
        "\n",
        "file = open('/content/AIFFEL_quest_cr/Python/SubQuest02/Avengers.txt', 'r').read()\n",
        "trans_map = {x: \" \" for x in string.punctuation}\n",
        "\n",
        "words_list = file.lower().translate(str.maketrans(trans_map)).split() # initializing a list of formatted words\n",
        "word_dict = {} # iniitalizing a dictionary for later usage"
      ],
      "metadata": {
        "id": "HxgwkHKf7W92"
      },
      "id": "HxgwkHKf7W92",
      "execution_count": 87,
      "outputs": []
    },
    {
      "cell_type": "code",
      "source": [
        "# Generating word_dict using words in words_list\n",
        "# formating words to make keys of word_dict and count their frequency\n",
        "for word in words_list:\n",
        "\n",
        "  if word in word_dict:\n",
        "    word_dict[word] += 1\n",
        "  else:\n",
        "    word_dict[word] = 1"
      ],
      "metadata": {
        "id": "ehwQbUjj24UU"
      },
      "id": "ehwQbUjj24UU",
      "execution_count": 88,
      "outputs": []
    },
    {
      "cell_type": "code",
      "source": [
        "#sorting the dictionary by value using lambda\n",
        "word_descending = sorted(word_dict.items(), key=lambda x: x[1], reverse = True)\n",
        "word_descending_dict = {}\n",
        "\n",
        "for i, value in enumerate(word_descending):\n",
        "  word_descending_dict[value[0]] = i+1"
      ],
      "metadata": {
        "id": "v4B8QNsF4R9I",
        "collapsed": true
      },
      "id": "v4B8QNsF4R9I",
      "execution_count": 84,
      "outputs": []
    },
    {
      "cell_type": "code",
      "source": [
        "#a function to get a word and return the order of frequency\n",
        "def word_frequency_order():\n",
        "  print(\"Input a sentence to convert:\")\n",
        "  input_string = input().lower().translate(str.maketrans({x: \"\" for x in string.punctuation})) # formatting input string to match data\n",
        "  input_words_list = input_string.split()\n",
        "  converted_string = \"\"\n",
        "\n",
        "  for word in input_words_list:\n",
        "    if word in word_descending_dict:\n",
        "      converted_string += \" \" + str(word_descending_dict[word])\n",
        "    else:\n",
        "      converted_string += \" \" + \"\\none\"\n",
        "\n",
        "  print(converted_string.lstrip())"
      ],
      "metadata": {
        "id": "V5f7y1mB4UWD"
      },
      "id": "V5f7y1mB4UWD",
      "execution_count": 89,
      "outputs": []
    },
    {
      "cell_type": "code",
      "source": [
        "#running the function\n",
        "word_frequency_order()"
      ],
      "metadata": {
        "id": "qLacP_Le4wsu",
        "outputId": "928a84b0-63e2-47e9-a1c6-1a6c04126d5f",
        "colab": {
          "base_uri": "https://localhost:8080/"
        }
      },
      "id": "qLacP_Le4wsu",
      "execution_count": 86,
      "outputs": [
        {
          "output_type": "stream",
          "name": "stdout",
          "text": [
            "Input a sentence to convert:\n",
            "i am a boy\n",
            "3 122 4 544\n"
          ]
        }
      ]
    }
  ],
  "metadata": {
    "kernelspec": {
      "display_name": "Python 3 (ipykernel)",
      "language": "python",
      "name": "python3"
    },
    "language_info": {
      "codemirror_mode": {
        "name": "ipython",
        "version": 3
      },
      "file_extension": ".py",
      "mimetype": "text/x-python",
      "name": "python",
      "nbconvert_exporter": "python",
      "pygments_lexer": "ipython3",
      "version": "3.9.7"
    },
    "colab": {
      "provenance": []
    }
  },
  "nbformat": 4,
  "nbformat_minor": 5
}