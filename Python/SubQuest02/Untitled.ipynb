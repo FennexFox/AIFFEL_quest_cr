{
 "cells": [
  {
   "cell_type": "code",
   "execution_count": 4,
   "id": "7gm8eJa86w6a",
   "metadata": {
    "colab": {
     "base_uri": "https://localhost:8080/"
    },
    "id": "7gm8eJa86w6a",
    "outputId": "28f371a8-d54b-4641-fd55-168bfa45af81"
   },
   "outputs": [
    {
     "name": "stdout",
     "output_type": "stream",
     "text": [
      "Drive already mounted at /content/drive; to attempt to forcibly remount, call drive.mount(\"/content/drive\", force_remount=True).\n",
      "Cloning into 'AIFFEL_quest_cr'...\n",
      "remote: Enumerating objects: 56, done.\u001b[K\n",
      "remote: Counting objects: 100% (56/56), done.\u001b[K\n",
      "remote: Compressing objects: 100% (41/41), done.\u001b[K\n",
      "remote: Total 56 (delta 17), reused 29 (delta 8), pack-reused 0 (from 0)\u001b[K\n",
      "Receiving objects: 100% (56/56), 32.95 KiB | 4.12 MiB/s, done.\n",
      "Resolving deltas: 100% (17/17), done.\n"
     ]
    }
   ],
   "source": [
    "from google.colab import drive\n",
    "drive.mount('/content/drive')\n",
    "\n",
    "!git clone https://github.com/FennexFox/AIFFEL_quest_cr.git"
   ]
  },
  {
   "cell_type": "code",
   "execution_count": null,
   "id": "HxgwkHKf7W92",
   "metadata": {
    "colab": {
     "base_uri": "https://localhost:8080/"
    },
    "id": "HxgwkHKf7W92",
    "outputId": "c2fc4b72-2d80-4026-e65e-236d7c05d634"
   },
   "outputs": [
    {
     "name": "stdout",
     "output_type": "stream",
     "text": [
      "Type in a word to check frequency order:\n"
     ]
    }
   ],
   "source": [
    "# importing string module to use .strip() function\n",
    "import string\n",
    "\n",
    "file = open('Avengers.txt', 'r').read() # converting the file into string\n",
    "words = file.split() # initializing a list of words in file\n",
    "wordDict = {} # iniitalizing a dictionary for later usage\n",
    "\n",
    "for word in words:\n",
    "  wordKey = word.lower().strip(string.punctuation) #formating words\n",
    "\n",
    "  # counting the frequency of word in words list\n",
    "  if wordKey in wordDict:\n",
    "    wordDict[wordKey] += 1\n",
    "  else:\n",
    "    wordDict[wordKey] = 1\n",
    "\n",
    "#sorting the dictionary by value using lambda\n",
    "wordDescending = sorted(wordDict.items(), key=lambda x: x[1], reverse = True)\n",
    "wordDescendingDict = {}\n",
    "\n",
    "#making another dictionary by the order of frequency\n",
    "order = 0\n",
    "for pair in wordDescending:\n",
    "  wordDescendingDict[pair[0]] = order\n",
    "  order += 1\n",
    "\n",
    "#a function to get a word and return the order of frequency\n",
    "def wordFreqOrder(str):\n",
    "  wordKey = str.lower().strip(string.punctuation)\n",
    "  return wordDescendingDict[wordKey]\n",
    "\n",
    "print(\"Type in a word to check frequency order:\")\n",
    "print(wordFreqOrder(input()))"
   ]
  },
  {
   "cell_type": "code",
   "execution_count": 55,
   "id": "4b3c550f",
   "metadata": {
    "id": "4b3c550f"
   },
   "outputs": [],
   "source": [
    "#"
   ]
  }
 ],
 "metadata": {
  "colab": {
   "provenance": []
  },
  "kernelspec": {
   "display_name": "Python 3 (ipykernel)",
   "language": "python",
   "name": "python3"
  },
  "language_info": {
   "codemirror_mode": {
    "name": "ipython",
    "version": 3
   },
   "file_extension": ".py",
   "mimetype": "text/x-python",
   "name": "python",
   "nbconvert_exporter": "python",
   "pygments_lexer": "ipython3",
   "version": "3.9.7"
  }
 },
 "nbformat": 4,
 "nbformat_minor": 5
}
