{
 "cells": [
  {
   "cell_type": "markdown",
   "metadata": {
    "colab_type": "text",
    "id": "view-in-github"
   },
   "source": [
    "<a href=\"https://colab.research.google.com/github/FennexFox/AIFFEL_quest_cr/blob/main/Python/SubQuest04/Untitled.ipynb\" target=\"_parent\"><img src=\"https://colab.research.google.com/assets/colab-badge.svg\" alt=\"Open In Colab\"/></a>"
   ]
  },
  {
   "cell_type": "code",
   "execution_count": 69,
   "metadata": {
    "id": "R310tlPZNw8D"
   },
   "outputs": [],
   "source": [
    "def calculator(int1, int2, operation):\n",
    "    result = \"\"\n",
    "\n",
    "    try:\n",
    "      if operation == '+':\n",
    "          result = int1 + int2\n",
    "      elif operation == '-':\n",
    "          result = int1 - int2\n",
    "      elif operation == '*':\n",
    "          result = int1 * int2\n",
    "      elif operation == '**':\n",
    "          result = int1 ** int2\n",
    "      elif operation == '/':\n",
    "          result = int1 / int2\n",
    "      else:\n",
    "          print('지원되지 않는 연산자입니다.')\n",
    "    except ZeroDivisionError:\n",
    "          print('0으로 나눌 수 없습니다!')\n",
    "\n",
    "    print(f\"계산한 값은 {result}입니다.\")\n",
    "    is_continue = input('계산을 계속하시겠습니까? (y/n)')\n",
    "\n",
    "    if is_continue.lower() == 'y':\n",
    "        calc_input()\n",
    "    else:\n",
    "        print('계산을 종료합니다.')"
   ]
  },
  {
   "cell_type": "code",
   "execution_count": 67,
   "metadata": {
    "id": "1sWubrTxddSN"
   },
   "outputs": [],
   "source": [
    "def calc_input():\n",
    "  while True:\n",
    "    try:\n",
    "      int1 = int(input('첫 번째 정수를 입력해주세요.'))\n",
    "      int2 = int(input('두 번째 정수를 입력해주세요.'))\n",
    "      break\n",
    "    except ValueError as e:\n",
    "      print(f'잘못된 입력입니다. 정수를 입력해주세요. {e}')\n",
    "\n",
    "  while True:\n",
    "    try:\n",
    "      operation = str(input('연산자를 입력해주세요.'))\n",
    "      break\n",
    "    except ValueError as e:\n",
    "      print(f'잘못된 입력입니다. 문자로 입력해주세요. {e}')\n",
    "\n",
    "  calculator(int1, int2, operation)"
   ]
  },
  {
   "cell_type": "code",
   "execution_count": 66,
   "metadata": {
    "colab": {
     "base_uri": "https://localhost:8080/"
    },
    "id": "eWJK9kl7RwIp",
    "outputId": "7b81a7d9-844f-48e4-c189-85e9575105f1"
   },
   "outputs": [
    {
     "name": "stdout",
     "output_type": "stream",
     "text": [
      "첫 번째 정수를 입력해주세요.1\n",
      "두 번째 정수를 입력해주세요.2\n",
      "연산자를 입력해주세요./\n",
      "계산한 값은 0.5입니다.\n",
      "계산을 계속하시겠습니까? (y/n)n\n",
      "계산을 종료합니다.\n"
     ]
    }
   ],
   "source": [
    "calc_input()"
   ]
  },
  {
   "cell_type": "markdown",
   "metadata": {
    "id": "DgOcNF4IOP7P"
   },
   "source": [
    "텍스트 블럭"
   ]
  }
 ],
 "metadata": {
  "colab": {
   "include_colab_link": true,
   "provenance": []
  },
  "kernelspec": {
   "display_name": "Python 3",
   "name": "python3"
  },
  "language_info": {
   "name": "python"
  }
 },
 "nbformat": 4,
 "nbformat_minor": 0
}
